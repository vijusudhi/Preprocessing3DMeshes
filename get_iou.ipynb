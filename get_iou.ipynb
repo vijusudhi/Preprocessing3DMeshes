{
 "cells": [
  {
   "cell_type": "code",
   "execution_count": 65,
   "id": "69a83b67-5433-404f-a353-9211f125ed9f",
   "metadata": {},
   "outputs": [
    {
     "name": "stdout",
     "output_type": "stream",
     "text": [
      "['v 65.605723 -0.486512 20.889799\\n', 'v 65.703002 -0.657188 21.357752\\n']\n"
     ]
    }
   ],
   "source": [
    "_ = open(r'E:\\Uni_Projects\\3DMeshes\\MedMeshCNN\\checkpoints\\final_40meshes_10train\\meshes\\Hannover_AM_left_initial_proc_0.obj')\n",
    "test_mesh = _.readlines()\n",
    "_.close()\n",
    "print(test_mesh[:2])"
   ]
  },
  {
   "cell_type": "code",
   "execution_count": 77,
   "id": "bc391558-345f-47e1-95c9-c7a7743a4b99",
   "metadata": {},
   "outputs": [],
   "source": [
    "vertices, faces, edges, edge_groups = [], [], [], []\n",
    "for line in test_mesh:\n",
    "    sp = line.split(' ')\n",
    "    if sp[0].strip() == 'v':\n",
    "        vertices.append([float(val) for val in sp[1:]])\n",
    "    if sp[0].strip() == 'f':\n",
    "        faces.append([int(val) for val in sp[1:]])        \n",
    "    if sp[0].strip() == 'e':\n",
    "        edges.append([int(val) for val in sp[1:3]])     \n",
    "        edge_groups.append(int(sp[3]))"
   ]
  },
  {
   "cell_type": "code",
   "execution_count": 78,
   "id": "1eac5388-e8d9-4ee2-af42-fa4465f34c9d",
   "metadata": {},
   "outputs": [
    {
     "data": {
      "text/plain": [
       "(9561, 19200)"
      ]
     },
     "execution_count": 78,
     "metadata": {},
     "output_type": "execute_result"
    }
   ],
   "source": [
    "len(vertices), len(faces)"
   ]
  },
  {
   "cell_type": "code",
   "execution_count": 79,
   "id": "f327b17c-9d88-4334-a955-ed4078b1758a",
   "metadata": {},
   "outputs": [
    {
     "data": {
      "text/plain": [
       "(28800, 28800)"
      ]
     },
     "execution_count": 79,
     "metadata": {},
     "output_type": "execute_result"
    }
   ],
   "source": [
    "len(edges), len(edge_groups)"
   ]
  },
  {
   "cell_type": "code",
   "execution_count": 70,
   "id": "ccd23a45-75f9-4eb8-aa22-888792e2eb94",
   "metadata": {},
   "outputs": [
    {
     "name": "stdout",
     "output_type": "stream",
     "text": [
      "['0,1\\n', '1,2\\n']\n"
     ]
    }
   ],
   "source": [
    "_ = open(r\"E:\\Uni_Projects\\3DMeshes\\Preprocessing3DMeshes\\final_set_50meshes\\edges\\Hannover_AM_left_initial_proc.edges\")\n",
    "target_mesh = _.readlines()\n",
    "_.close()\n",
    "print(target_mesh[:2])"
   ]
  },
  {
   "cell_type": "code",
   "execution_count": 71,
   "id": "4e86b600-420b-4460-a3c8-df16a898a57d",
   "metadata": {},
   "outputs": [],
   "source": [
    "target_edges = []\n",
    "for line in target_mesh:\n",
    "    sp = line.split(',')\n",
    "    target_edges.append([int(val)+1 for val in sp])"
   ]
  },
  {
   "cell_type": "code",
   "execution_count": 72,
   "id": "ae48e6d0-a378-4840-8e86-71fd15a2f41e",
   "metadata": {},
   "outputs": [
    {
     "data": {
      "text/plain": [
       "([1, 2], [9560, 9561], 28800)"
      ]
     },
     "execution_count": 72,
     "metadata": {},
     "output_type": "execute_result"
    }
   ],
   "source": [
    "min(target_edges), max(target_edges), len(target_edges)"
   ]
  },
  {
   "cell_type": "code",
   "execution_count": 73,
   "id": "3a99917c-9025-44d6-819d-7355cb77c5c2",
   "metadata": {},
   "outputs": [
    {
     "data": {
      "text/plain": [
       "([1, 2], [9560, 9561], 28800)"
      ]
     },
     "execution_count": 73,
     "metadata": {},
     "output_type": "execute_result"
    }
   ],
   "source": [
    "min(edges), max(edges), len(edges)"
   ]
  },
  {
   "cell_type": "code",
   "execution_count": 37,
   "id": "1362a9e8-70a2-4278-ae8e-a9ccd33c808c",
   "metadata": {},
   "outputs": [
    {
     "name": "stdout",
     "output_type": "stream",
     "text": [
      "['####\\n', '#\\n']\n"
     ]
    }
   ],
   "source": [
    "_ = open(r\"E:\\Uni_Projects\\3DMeshes\\Preprocessing3DMeshes\\final_set_50meshes\\test\\Hannover_AM_left_initial_proc.obj\")\n",
    "target_mesh_obj = _.readlines()\n",
    "_.close()\n",
    "print(target_mesh_obj[:2])"
   ]
  },
  {
   "cell_type": "code",
   "execution_count": 38,
   "id": "c62a045e-6d50-47cd-9d28-680f3e00ee0f",
   "metadata": {},
   "outputs": [],
   "source": [
    "target_vertices = []\n",
    "for line in target_mesh_obj:\n",
    "    sp = line.split(' ')\n",
    "    if sp[0].strip() == 'v':\n",
    "        target_vertices.append([float(val) for val in sp[1:]])"
   ]
  },
  {
   "cell_type": "code",
   "execution_count": 39,
   "id": "5b8f5b4f-f35f-4817-a6cb-87873650bd22",
   "metadata": {},
   "outputs": [
    {
     "data": {
      "text/plain": [
       "9561"
      ]
     },
     "execution_count": 39,
     "metadata": {},
     "output_type": "execute_result"
    }
   ],
   "source": [
    "len(target_vertices)"
   ]
  },
  {
   "cell_type": "code",
   "execution_count": 43,
   "id": "db2b1e8a-2785-403d-88aa-eefff16552a6",
   "metadata": {},
   "outputs": [],
   "source": [
    "count = 0\n",
    "for v, t_v in zip(vertices, target_vertices):\n",
    "    if v != t_v:\n",
    "        count += 1"
   ]
  },
  {
   "cell_type": "code",
   "execution_count": 44,
   "id": "758bfb09-1aac-4430-aeca-fa6043f3b294",
   "metadata": {},
   "outputs": [
    {
     "data": {
      "text/plain": [
       "0"
      ]
     },
     "execution_count": 44,
     "metadata": {},
     "output_type": "execute_result"
    }
   ],
   "source": [
    "count"
   ]
  },
  {
   "cell_type": "code",
   "execution_count": 76,
   "id": "73b1fa60-892e-4ab9-b4fe-2d1f8c454a12",
   "metadata": {},
   "outputs": [
    {
     "name": "stdout",
     "output_type": "stream",
     "text": [
      "['0\\n', '0\\n']\n"
     ]
    }
   ],
   "source": [
    "_ = open(r\"E:/Uni_Projects/3DMeshes/Preprocessing3DMeshes/final_set_50meshes/seg/Hannover_AM_left_initial_proc.eseg\")\n",
    "target_edge_groups = _.readlines()\n",
    "_.close()\n",
    "print(target_edge_groups[:2])"
   ]
  },
  {
   "cell_type": "code",
   "execution_count": 80,
   "id": "cc29fac3-7ffe-4241-b2fc-ad7b85fa77a9",
   "metadata": {},
   "outputs": [],
   "source": [
    "target_edge_groups = [int(i) for i in target_edge_groups]    "
   ]
  },
  {
   "cell_type": "code",
   "execution_count": 86,
   "id": "016e22c5-a114-4532-8353-abe21d059a60",
   "metadata": {},
   "outputs": [],
   "source": [
    "tp, tn, fp, fn = 0, 0, 0, 0\n",
    "for edg, tar in zip(edge_groups, target_edge_groups):\n",
    "    if edg == 0 and tar == 0:\n",
    "        tp += 1\n",
    "    elif edg == 0 and tar == 1:\n",
    "        fp += 1\n",
    "    elif edg == 1 and tar == 0:\n",
    "        fn += 1\n",
    "    elif edg == 1 and tar == 1:\n",
    "        tn += 1"
   ]
  },
  {
   "cell_type": "code",
   "execution_count": 84,
   "id": "5717ebc1-db07-41fd-9669-781acd6eb1c8",
   "metadata": {},
   "outputs": [
    {
     "data": {
      "text/plain": [
       "0.8734722222222222"
      ]
     },
     "execution_count": 84,
     "metadata": {},
     "output_type": "execute_result"
    }
   ],
   "source": [
    "count/len(edge_groups)"
   ]
  },
  {
   "cell_type": "code",
   "execution_count": 87,
   "id": "59e07da3-2a4a-457d-af9d-ab374eb85f4b",
   "metadata": {},
   "outputs": [
    {
     "data": {
      "text/plain": [
       "0.8559911476446411"
      ]
     },
     "execution_count": 87,
     "metadata": {},
     "output_type": "execute_result"
    }
   ],
   "source": [
    "tp / (tp+fp+fn)"
   ]
  },
  {
   "cell_type": "code",
   "execution_count": 88,
   "id": "09d2c3a9-b171-468e-b822-e2acba31df92",
   "metadata": {},
   "outputs": [],
   "source": [
    "tp, tn, fp, fn = 0, 0, 0, 0\n",
    "for edg, tar in zip(edge_groups, target_edge_groups):\n",
    "    if edg == 1 and tar == 1:\n",
    "        tp += 1\n",
    "    elif edg == 1 and tar == 0:\n",
    "        fp += 1\n",
    "    elif edg == 0 and tar == 1:\n",
    "        fn += 1\n",
    "    elif edg == 0 and tar == 0:\n",
    "        tn += 1"
   ]
  },
  {
   "cell_type": "code",
   "execution_count": 89,
   "id": "2bd07417-c2da-471f-8517-f980bdf26180",
   "metadata": {},
   "outputs": [
    {
     "data": {
      "text/plain": [
       "0.4896358543417367"
      ]
     },
     "execution_count": 89,
     "metadata": {},
     "output_type": "execute_result"
    }
   ],
   "source": [
    "tp / (tp+fp+fn)"
   ]
  },
  {
   "cell_type": "code",
   "execution_count": 90,
   "id": "feabc184-8942-4c91-a5dc-70fcce36bb7a",
   "metadata": {},
   "outputs": [],
   "source": [
    "def get_edge_groups(mesh):\n",
    "    _ = open(r'%s'%mesh)\n",
    "    test_mesh = _.readlines()\n",
    "    _.close()\n",
    "\n",
    "    # vertices, faces, edges, edge_groups = [], [], [], []\n",
    "    edge_groups = []\n",
    "    for line in test_mesh:\n",
    "        sp = line.split(' ')     \n",
    "        if sp[0].strip() == 'e':\n",
    "            # edges.append([int(val) for val in sp[1:3]])     \n",
    "            edge_groups.append(int(sp[3]))    \n",
    "    return edge_groups"
   ]
  },
  {
   "cell_type": "code",
   "execution_count": 114,
   "id": "f86a1d1d-7649-4c0c-a989-ab31c360eab2",
   "metadata": {},
   "outputs": [],
   "source": [
    "def get_target_edge_groups(mesh):\n",
    "    _ = open(r'%s'%mesh)\n",
    "    target_edge_groups = _.readlines()\n",
    "    _.close()\n",
    "    return [int(i) for i in target_edge_groups]    "
   ]
  },
  {
   "cell_type": "code",
   "execution_count": 119,
   "id": "0844089a-0382-4810-bfdb-94bd529c2abe",
   "metadata": {},
   "outputs": [],
   "source": [
    "def get_metrics(edge_groups, target_edge_groups):\n",
    "    # IOU - Class 0\n",
    "    tp, tn, fp, fn = 0, 0, 0, 0\n",
    "    for edg, tar in zip(edge_groups, target_edge_groups):\n",
    "        if edg == 0 and tar == 0:\n",
    "            tp += 1\n",
    "        elif edg == 0 and tar == 1:\n",
    "            fp += 1\n",
    "        elif edg == 1 and tar == 0:\n",
    "            fn += 1\n",
    "        elif edg == 1 and tar == 1:\n",
    "            tn += 1\n",
    "            \n",
    "    iou_0 = tp / (tp+fp+fn)\n",
    "    \n",
    "    # IOU - Class 1\n",
    "    tp, tn, fp, fn = 0, 0, 0, 0\n",
    "    for edg, tar in zip(edge_groups, target_edge_groups):\n",
    "        if edg == 1 and tar == 1:\n",
    "            tp += 1\n",
    "        elif edg == 1 and tar == 0:\n",
    "            fp += 1\n",
    "        elif edg == 0 and tar == 1:\n",
    "            fn += 1\n",
    "        elif edg == 0 and tar == 0:\n",
    "            tn += 1\n",
    "            \n",
    "    iou_1 = tp / (tp+fp+fn)   \n",
    "    \n",
    "    # Accuracy\n",
    "    acc = 0\n",
    "    for edg, tar in zip(edge_groups, target_edge_groups):\n",
    "        if edg == tar:\n",
    "            acc += 1\n",
    "            \n",
    "    acc = acc/len(edge_groups)\n",
    "    \n",
    "    return iou_0, iou_1, acc"
   ]
  },
  {
   "cell_type": "code",
   "execution_count": 120,
   "id": "134a2780-6275-4525-8938-39291493b789",
   "metadata": {},
   "outputs": [],
   "source": [
    "edge_groups = get_edge_groups(r'E:\\Uni_Projects\\3DMeshes\\MedMeshCNN\\checkpoints\\final_40meshes_10train\\meshes\\Hannover_AM_left_initial_proc_0.obj')\n",
    "target_edge_groups = get_target_edge_groups('E:/Uni_Projects/3DMeshes/Preprocessing3DMeshes/final_set_50meshes/seg/Hannover_AM_left_initial_proc.eseg')"
   ]
  },
  {
   "cell_type": "code",
   "execution_count": 121,
   "id": "ded09f68-c98b-4a79-834f-d30934cc483b",
   "metadata": {},
   "outputs": [
    {
     "data": {
      "text/plain": [
       "(0.8559911476446411, 0.4896358543417367, 0.8734722222222222)"
      ]
     },
     "execution_count": 121,
     "metadata": {},
     "output_type": "execute_result"
    }
   ],
   "source": [
    "get_metrics(edge_groups, target_edge_groups)"
   ]
  },
  {
   "cell_type": "code",
   "execution_count": 126,
   "id": "b013de41-8ff4-4a20-b371-4f78bb333b69",
   "metadata": {},
   "outputs": [],
   "source": [
    "test_meshes_text = \\\n",
    "\"\"\"\n",
    "Hannover_AM_left_initial_proc.obj\n",
    "Hannover_AZ_initial_proc.obj\n",
    "Hannover_DK_initialSegmentation_proc.obj\n",
    "Hannover_GDPT_left_initial_2_proc.obj\n",
    "Hannover_MJ_links_initial_proc.obj\n",
    "Hannover_SE_Segm1_initial_proc.obj\n",
    "Hannover_WLAD_initial_proc.obj\n",
    "HRA_20180325_2_initial_proc.obj\n",
    "Kiel_BB_Pat20_seg_proc.obj\n",
    "Kiel_BB_Pat2_initial.cut_proc.obj\n",
    "\"\"\""
   ]
  },
  {
   "cell_type": "code",
   "execution_count": 128,
   "id": "f6fe5e5e-2bbf-491b-9a51-f15678f8cb5b",
   "metadata": {},
   "outputs": [
    {
     "data": {
      "text/plain": [
       "['Hannover_AM_left_initial_proc',\n",
       " 'Hannover_AZ_initial_proc',\n",
       " 'Hannover_DK_initialSegmentation_proc',\n",
       " 'Hannover_GDPT_left_initial_2_proc',\n",
       " 'Hannover_MJ_links_initial_proc',\n",
       " 'Hannover_SE_Segm1_initial_proc',\n",
       " 'Hannover_WLAD_initial_proc',\n",
       " 'HRA_20180325_2_initial_proc',\n",
       " 'Kiel_BB_Pat20_seg_proc',\n",
       " 'Kiel_BB_Pat2_initial.cut_proc']"
      ]
     },
     "execution_count": 128,
     "metadata": {},
     "output_type": "execute_result"
    }
   ],
   "source": [
    "import re\n",
    "test_meshes = [re.sub('\\.obj', '', mesh.strip()) for mesh in test_meshes_text.split('\\n') if mesh != '']\n",
    "test_meshes"
   ]
  },
  {
   "cell_type": "code",
   "execution_count": 132,
   "id": "f165e825-98e9-473f-91ac-ce73b157c9a6",
   "metadata": {},
   "outputs": [
    {
     "name": "stdout",
     "output_type": "stream",
     "text": [
      "Hannover_AM_left_initial_proc (0.8559911476446411, 0.4896358543417367, 0.8734722222222222)\n",
      "Hannover_AZ_initial_proc (0.7673822940436827, 0.5946274955364389, 0.8265625)\n",
      "Hannover_DK_initialSegmentation_proc (0.7134807108799306, 0.46434359805510533, 0.7704861111111111)\n",
      "Hannover_GDPT_left_initial_2_proc (0.7877041306436119, 0.4886317907444668, 0.8235069444444445)\n",
      "Hannover_MJ_links_initial_proc (0.8791849847818736, 0.6428392901774557, 0.9007638888888889)\n",
      "Hannover_SE_Segm1_initial_proc (0.8364904297937583, 0.7218810465214099, 0.8852083333333334)\n",
      "Hannover_WLAD_initial_proc (0.9248930317848411, 0.5716775599128541, 0.9317361111111111)\n",
      "HRA_20180325_2_initial_proc (0.8592492674077864, 0.7069816984603466, 0.8949305555555556)\n",
      "Kiel_BB_Pat20_seg_proc (0.890459215768505, 0.6548169684154883, 0.9093055555555556)\n",
      "Kiel_BB_Pat2_initial.cut_proc (0.9500805801772764, 0.762598198888676, 0.9569791666666667)\n"
     ]
    }
   ],
   "source": [
    "all_metrics = []\n",
    "for mesh in test_meshes:\n",
    "    chckpoint_mesh = r'E:\\Uni_Projects\\3DMeshes\\MedMeshCNN\\checkpoints\\final_40meshes_10train\\meshes\\%s_0.obj'%mesh\n",
    "    eseg_file = r'E:/Uni_Projects/3DMeshes/Preprocessing3DMeshes/final_set_50meshes/seg/%s.eseg'%mesh\n",
    "    \n",
    "    edge_groups = get_edge_groups(chckpoint_mesh)\n",
    "    target_edge_groups = get_target_edge_groups(eseg_file)\n",
    "    \n",
    "    metrics = get_metrics(edge_groups, target_edge_groups)\n",
    "    all_metrics.append(metrics)\n",
    "    print(mesh, metrics)"
   ]
  },
  {
   "cell_type": "code",
   "execution_count": 144,
   "id": "7024774e-2d51-4062-840e-4abb77eb0520",
   "metadata": {},
   "outputs": [
    {
     "name": "stdout",
     "output_type": "stream",
     "text": [
      "Hannover_AM_left_initial_proc 0.6728135009931889\n",
      "Hannover_AZ_initial_proc 0.6810048947900609\n",
      "Hannover_DK_initialSegmentation_proc 0.588912154467518\n",
      "Hannover_GDPT_left_initial_2_proc 0.6381679606940394\n",
      "Hannover_MJ_links_initial_proc 0.7610121374796646\n",
      "Hannover_SE_Segm1_initial_proc 0.7791857381575842\n",
      "Hannover_WLAD_initial_proc 0.7482852958488475\n",
      "HRA_20180325_2_initial_proc 0.7831154829340665\n",
      "Kiel_BB_Pat20_seg_proc 0.7726380920919966\n",
      "Kiel_BB_Pat2_initial.cut_proc 0.8563393895329762\n"
     ]
    }
   ],
   "source": [
    "mean_sum = 0\n",
    "iou_0_sum, iou_1_sum = 0, 0\n",
    "acc_sum = 0\n",
    "for mesh, metric in zip(test_meshes, all_metrics):\n",
    "    iou_0 = metric[0]\n",
    "    iou_1 = metric[1]\n",
    "    acc = metric[2]\n",
    "    \n",
    "    mean_iou = (iou_0 + iou_1) / 2\n",
    "    \n",
    "    iou_0_sum += iou_0\n",
    "    iou_1_sum += iou_1\n",
    "    \n",
    "    acc_sum += acc\n",
    "    mean_sum += mean_iou\n",
    "    \n",
    "    print(mesh, mean_iou)"
   ]
  },
  {
   "cell_type": "code",
   "execution_count": 141,
   "id": "35d75842-e7e3-411c-9d7a-04865105ef4f",
   "metadata": {},
   "outputs": [
    {
     "name": "stdout",
     "output_type": "stream",
     "text": [
      "Mean IOU 0.7281474646989943\n",
      "IOU Class 0 0.8464915792925908\n",
      "IOU Class 1 0.6098033501053979\n",
      "Accuracy 0.877295138888889\n"
     ]
    }
   ],
   "source": [
    "print('Mean IOU', mean_sum/(len(all_metrics)))\n",
    "print('IOU Class 0', iou_0_sum/(len(all_metrics)))\n",
    "print('IOU Class 1', iou_1_sum/(len(all_metrics)))\n",
    "print('Accuracy', acc_sum/(len(all_metrics)))"
   ]
  },
  {
   "cell_type": "code",
   "execution_count": 143,
   "id": "6f2f0b3b-e631-4901-85cf-79f78401e636",
   "metadata": {},
   "outputs": [],
   "source": [
    "test_meshes_info = \\\n",
    "\"\"\"\n",
    "Hannover_AM_left_initial.obj\t32375\t64822\n",
    "Hannover_AZ_initial.obj\t73982\t148012\n",
    "Hannover_DK_initialSegmentation.obj\t22089\t44234\n",
    "Hannover_GDPT_left_initial_2.obj\t91753\t183562\n",
    "Hannover_MJ_links_initial.obj\t108692\t217464\n",
    "Hannover_SE_Segm1_initial.obj\t19904\t39848\n",
    "Hannover_WLAD_initial.obj\t63931\t127998\n",
    "HRA_20180325_2_initial.obj\t56692\t113388\n",
    "Kiel_BB_Pat20_seg.obj\t159325\t318762\n",
    "Kiel_BB_Pat2_initial.cut.obj\t51989\t104042\n",
    "\"\"\"\n"
   ]
  },
  {
   "cell_type": "code",
   "execution_count": null,
   "id": "47e1546d-9c70-46a7-8fe5-f17232c3a84e",
   "metadata": {},
   "outputs": [],
   "source": [
    "for sp in test_meshes_info.split('\\n'):\n",
    "    s = sp.split('\\t')\n",
    "    s[0]"
   ]
  }
 ],
 "metadata": {
  "kernelspec": {
   "display_name": "Python 3",
   "language": "python",
   "name": "python3"
  },
  "language_info": {
   "codemirror_mode": {
    "name": "ipython",
    "version": 3
   },
   "file_extension": ".py",
   "mimetype": "text/x-python",
   "name": "python",
   "nbconvert_exporter": "python",
   "pygments_lexer": "ipython3",
   "version": "3.8.8"
  }
 },
 "nbformat": 4,
 "nbformat_minor": 5
}
